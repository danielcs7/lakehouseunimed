{
 "cells": [
  {
   "cell_type": "markdown",
   "id": "b8aa130d-9d4b-48ab-bcf7-45e785613a4e",
   "metadata": {
    "jp-MarkdownHeadingCollapsed": true
   },
   "source": [
    "# <b style=\"color: white; background-color: #00bbff; padding: 5px 10px; border-radius: 5px;\">LIBRARY</b>"
   ]
  },
  {
   "cell_type": "code",
   "execution_count": 2,
   "id": "71fea282-a486-45be-98da-bdd3e5d0eb1f",
   "metadata": {},
   "outputs": [
    {
     "name": "stdout",
     "output_type": "stream",
     "text": [
      "minioadmin\n"
     ]
    }
   ],
   "source": [
    "import os\n",
    "from dotenv import load_dotenv\n",
    "from pyspark.sql import SparkSession\n",
    "\n",
    "# Carrega as variáveis de ambiente\n",
    "load_dotenv()\n",
    "s3_endpoint = os.getenv(\"S3_ENDPOINT\")\n",
    "s3_access_key = os.getenv(\"S3_ACCESS_KEY\")\n",
    "s3_secret_key = os.getenv(\"S3_SECRET_KEY\")\n",
    "\n",
    "print(s3_access_key)\n",
    "\n",
    "# Inicializa SparkSession com suporte a Iceberg + MinIO (igual ao seu script original)\n",
    "spark = SparkSession.builder \\\n",
    "    .appName(\"ReadIcebergSilverTables\") \\\n",
    "    .config(\"spark.jars\", \"/opt/spark/jars/iceberg-spark-runtime-3.5_2.12-1.6.0.jar\") \\\n",
    "    .config(\"spark.sql.extensions\", \"org.apache.iceberg.spark.extensions.IcebergSparkSessionExtensions\") \\\n",
    "    .config(\"spark.sql.catalog.local\", \"org.apache.iceberg.spark.SparkCatalog\") \\\n",
    "    .config(\"spark.sql.catalog.local.type\", \"hadoop\") \\\n",
    "    .config(\"spark.sql.catalog.local.warehouse\", \"s3a://datalake/iceberg\") \\\n",
    "    .config(\"spark.hadoop.fs.s3a.endpoint\", s3_endpoint) \\\n",
    "    .config(\"spark.hadoop.fs.s3a.access.key\", s3_access_key) \\\n",
    "    .config(\"spark.hadoop.fs.s3a.secret.key\", s3_secret_key) \\\n",
    "    .config(\"spark.hadoop.fs.s3a.path.style.access\", \"true\") \\\n",
    "    .config(\"spark.hadoop.fs.s3a.connection.ssl.enabled\", \"false\") \\\n",
    "    .getOrCreate()\n",
    "\n",
    "spark.sparkContext.setLogLevel(\"ERROR\")"
   ]
  },
  {
   "cell_type": "markdown",
   "id": "8cbd1648-6474-4c8f-b29e-5dededf7d633",
   "metadata": {
    "jp-MarkdownHeadingCollapsed": true
   },
   "source": [
    "# <b style=\"color: white; background-color: #00bbff; padding: 5px 10px; border-radius: 5px;\">READING TABLES BRONZE</b>"
   ]
  },
  {
   "cell_type": "code",
   "execution_count": 3,
   "id": "987a4bda-b363-4afa-b043-c3df719ab1f4",
   "metadata": {},
   "outputs": [
    {
     "name": "stdout",
     "output_type": "stream",
     "text": [
      "\n",
      "📊 Tabelas disponíveis na camada Bronze:\n",
      "- clientes\n",
      "- vendas\n",
      "\n",
      "🔍 Lendo dados da tabela: local.bronze.clientes\n",
      "\n",
      "📐 Schema:\n",
      "root\n",
      " |-- id: string (nullable = true)\n",
      " |-- nome: string (nullable = true)\n",
      " |-- email: string (nullable = true)\n",
      " |-- data_cadastro: string (nullable = true)\n",
      " |-- status: string (nullable = true)\n",
      " |-- created_at: timestamp (nullable = true)\n",
      "\n",
      "\n",
      "📝 Amostra dos dados (10 primeiras linhas):\n"
     ]
    },
    {
     "name": "stderr",
     "output_type": "stream",
     "text": [
      "                                                                                \r"
     ]
    },
    {
     "name": "stdout",
     "output_type": "stream",
     "text": [
      "+-------+--------------------------+----------------------------------------+-------------+------+--------------------------+\n",
      "|id     |nome                      |email                                   |data_cadastro|status|created_at                |\n",
      "+-------+--------------------------+----------------------------------------+-------------+------+--------------------------+\n",
      "|6010006|Anthony Gabriel Cavalcante|anthony.gabriel.cavalcante.2@exemplo.com|2025-03-22   |ativo |2025-09-13 19:02:41.891835|\n",
      "|6010009|José Albuquerque          |josé.albuquerque.5@exemplo.com          |2025-03-09   |ativo |2025-09-13 19:02:41.891835|\n",
      "|6010017|Hellena Alves             |hellena.alves.13@exemplo.com            |2025-02-03   |ativo |2025-09-13 19:02:41.891835|\n",
      "|6010021|Letícia Nunes             |letícia.nunes.17@exemplo.com            |2025-01-15   |ativo |2025-09-13 19:02:41.891835|\n",
      "|6010024|Maria Flor Brito          |maria.flor.brito.20@exemplo.com         |2025-01-21   |ativo |2025-09-13 19:02:41.891835|\n",
      "|6010031|João Vitor da Cruz        |joão.vitor.da.cruz.27@exemplo.com       |2025-01-18   |ativo |2025-09-13 19:02:41.891835|\n",
      "|6010037|Francisco Montenegro      |francisco.montenegro.33@exemplo.com     |2025-03-18   |ativo |2025-09-13 19:02:41.891835|\n",
      "|6010040|Joana da Rosa             |joana.da.rosa.36@exemplo.com            |2025-01-14   |ativo |2025-09-13 19:02:41.891835|\n",
      "|6010042|Srta. Clarice da Luz      |srta..clarice.da.luz.38@exemplo.com     |2025-03-04   |ativo |2025-09-13 19:02:41.891835|\n",
      "|6010043|Lunna Pimenta             |lunna.pimenta.39@exemplo.com            |2025-03-18   |ativo |2025-09-13 19:02:41.891835|\n",
      "+-------+--------------------------+----------------------------------------+-------------+------+--------------------------+\n",
      "only showing top 10 rows\n",
      "\n",
      "\n",
      "🔎 Exemplo de consulta SQL (contagem de registros):\n"
     ]
    },
    {
     "name": "stderr",
     "output_type": "stream",
     "text": [
      "[Stage 3:>                                                          (0 + 1) / 1]\r"
     ]
    },
    {
     "name": "stdout",
     "output_type": "stream",
     "text": [
      "+--------+\n",
      "|count(1)|\n",
      "+--------+\n",
      "|   14742|\n",
      "+--------+\n",
      "\n",
      "\n",
      "✅ Leitura concluída.\n"
     ]
    },
    {
     "name": "stderr",
     "output_type": "stream",
     "text": [
      "                                                                                \r"
     ]
    }
   ],
   "source": [
    "# Lista tabelas da camada silver\n",
    "bronze_tables = [row.tableName for row in spark.sql(\"SHOW TABLES IN local.bronze\").collect()]\n",
    "\n",
    "print(\"\\n📊 Tabelas disponíveis na camada Bronze:\")\n",
    "for table in bronze_tables:\n",
    "    print(f\"- {table}\")\n",
    "\n",
    "# Exemplo: Ler uma tabela específica (você pode escolher qualquer uma da lista)\n",
    "if bronze_tables:\n",
    "    table_to_read = bronze_tables[0]  # Lendo a primeira tabela como exemplo\n",
    "    print(f\"\\n🔍 Lendo dados da tabela: local.bronze.{table_to_read}\")\n",
    "    \n",
    "    df = spark.read.format(\"iceberg\").load(f\"local.bronze.{table_to_read}\")\n",
    "    \n",
    "    # Mostra o schema e algumas linhas\n",
    "    print(\"\\n📐 Schema:\")\n",
    "    df.printSchema()\n",
    "    \n",
    "    print(\"\\n📝 Amostra dos dados (10 primeiras linhas):\")\n",
    "    df.show(10, truncate=False)\n",
    "    \n",
    "    # Você também pode fazer consultas SQL diretamente\n",
    "    print(\"\\n🔎 Exemplo de consulta SQL (contagem de registros):\")\n",
    "    spark.sql(f\"SELECT COUNT(*) FROM local.bronze.{table_to_read}\").show()\n",
    "else:\n",
    "    print(\"\\n⚠️ Nenhuma tabela encontrada na camada Bronze.\")\n",
    "\n",
    "print(\"\\n✅ Leitura concluída.\")"
   ]
  },
  {
   "cell_type": "markdown",
   "id": "f9c73f95-3ede-43a9-a8c3-ddfb22b0aa5d",
   "metadata": {
    "jp-MarkdownHeadingCollapsed": true
   },
   "source": [
    "# <b style=\"color: white; background-color: #00bbff; padding: 5px 10px; border-radius: 5px;\">READING TABLES SILVER</b>"
   ]
  },
  {
   "cell_type": "code",
   "execution_count": 5,
   "id": "b864dd51-36cb-4ee6-96a7-7c97cfada965",
   "metadata": {},
   "outputs": [
    {
     "name": "stdout",
     "output_type": "stream",
     "text": [
      "\n",
      "📊 Tabelas disponíveis na camada Bronze:\n",
      "- clientes\n",
      "- vendas\n",
      "\n",
      "🔍 Lendo dados da tabela: local.bronze.clientes\n",
      "\n",
      "📐 Schema:\n",
      "root\n",
      " |-- id: string (nullable = true)\n",
      " |-- nome: string (nullable = true)\n",
      " |-- email: string (nullable = true)\n",
      " |-- data_cadastro: string (nullable = true)\n",
      " |-- status: string (nullable = true)\n",
      " |-- created_at: timestamp (nullable = true)\n",
      "\n",
      "\n",
      "📝 Amostra dos dados (10 primeiras linhas):\n"
     ]
    },
    {
     "name": "stderr",
     "output_type": "stream",
     "text": [
      "                                                                                \r"
     ]
    },
    {
     "name": "stdout",
     "output_type": "stream",
     "text": [
      "+-------+--------------------------+----------------------------------------+-------------+------+--------------------------+\n",
      "|id     |nome                      |email                                   |data_cadastro|status|created_at                |\n",
      "+-------+--------------------------+----------------------------------------+-------------+------+--------------------------+\n",
      "|6010006|Anthony Gabriel Cavalcante|anthony.gabriel.cavalcante.2@exemplo.com|2025-03-22   |ativo |2025-09-13 19:02:41.891835|\n",
      "|6010009|José Albuquerque          |josé.albuquerque.5@exemplo.com          |2025-03-09   |ativo |2025-09-13 19:02:41.891835|\n",
      "|6010017|Hellena Alves             |hellena.alves.13@exemplo.com            |2025-02-03   |ativo |2025-09-13 19:02:41.891835|\n",
      "|6010021|Letícia Nunes             |letícia.nunes.17@exemplo.com            |2025-01-15   |ativo |2025-09-13 19:02:41.891835|\n",
      "|6010024|Maria Flor Brito          |maria.flor.brito.20@exemplo.com         |2025-01-21   |ativo |2025-09-13 19:02:41.891835|\n",
      "|6010031|João Vitor da Cruz        |joão.vitor.da.cruz.27@exemplo.com       |2025-01-18   |ativo |2025-09-13 19:02:41.891835|\n",
      "|6010037|Francisco Montenegro      |francisco.montenegro.33@exemplo.com     |2025-03-18   |ativo |2025-09-13 19:02:41.891835|\n",
      "|6010040|Joana da Rosa             |joana.da.rosa.36@exemplo.com            |2025-01-14   |ativo |2025-09-13 19:02:41.891835|\n",
      "|6010042|Srta. Clarice da Luz      |srta..clarice.da.luz.38@exemplo.com     |2025-03-04   |ativo |2025-09-13 19:02:41.891835|\n",
      "|6010043|Lunna Pimenta             |lunna.pimenta.39@exemplo.com            |2025-03-18   |ativo |2025-09-13 19:02:41.891835|\n",
      "+-------+--------------------------+----------------------------------------+-------------+------+--------------------------+\n",
      "only showing top 10 rows\n",
      "\n",
      "\n",
      "🔎 Exemplo de consulta SQL (contagem de registros):\n"
     ]
    },
    {
     "name": "stderr",
     "output_type": "stream",
     "text": [
      "[Stage 7:>                                                          (0 + 1) / 1]\r"
     ]
    },
    {
     "name": "stdout",
     "output_type": "stream",
     "text": [
      "+--------+\n",
      "|count(1)|\n",
      "+--------+\n",
      "|   14742|\n",
      "+--------+\n",
      "\n",
      "\n",
      "✅ Leitura concluída.\n"
     ]
    },
    {
     "name": "stderr",
     "output_type": "stream",
     "text": [
      "                                                                                \r"
     ]
    }
   ],
   "source": [
    "# Lista tabelas da camada silver\n",
    "bronze_tables = [row.tableName for row in spark.sql(\"SHOW TABLES IN local.bronze\").collect()]\n",
    "\n",
    "print(\"\\n📊 Tabelas disponíveis na camada Bronze:\")\n",
    "for table in bronze_tables:\n",
    "    print(f\"- {table}\")\n",
    "\n",
    "# Exemplo: Ler uma tabela específica (você pode escolher qualquer uma da lista)\n",
    "if bronze_tables:\n",
    "    table_to_read = bronze_tables[0]  # Lendo a primeira tabela como exemplo\n",
    "    print(f\"\\n🔍 Lendo dados da tabela: local.bronze.{table_to_read}\")\n",
    "    \n",
    "    df = spark.read.format(\"iceberg\").load(f\"local.bronze.{table_to_read}\")\n",
    "    \n",
    "    # Mostra o schema e algumas linhas\n",
    "    print(\"\\n📐 Schema:\")\n",
    "    df.printSchema()\n",
    "    \n",
    "    print(\"\\n📝 Amostra dos dados (10 primeiras linhas):\")\n",
    "    df.show(10, truncate=False)\n",
    "    \n",
    "    # Você também pode fazer consultas SQL diretamente\n",
    "    print(\"\\n🔎 Exemplo de consulta SQL (contagem de registros):\")\n",
    "    spark.sql(f\"SELECT COUNT(*) FROM local.bronze.{table_to_read}\").show()\n",
    "else:\n",
    "    print(\"\\n⚠️ Nenhuma tabela encontrada na camada Bronze.\")\n",
    "\n",
    "print(\"\\n✅ Leitura concluída.\")"
   ]
  },
  {
   "cell_type": "markdown",
   "id": "180d88a3-b77d-41c0-bce6-3899c9b5126b",
   "metadata": {
    "jp-MarkdownHeadingCollapsed": true
   },
   "source": [
    "# <b style=\"color: white; background-color: #00bbff; padding: 5px 10px; border-radius: 5px;\">READING TABLES GOLD</b>"
   ]
  },
  {
   "cell_type": "code",
   "execution_count": 7,
   "id": "10872757-2e9e-462f-86c3-7afdd6a6a70c",
   "metadata": {},
   "outputs": [
    {
     "name": "stdout",
     "output_type": "stream",
     "text": [
      "\n",
      "📊 Tabelas disponíveis na camada Gold:\n",
      "- dim_clientes\n",
      "- fato_vendas\n",
      "- agregado_vendas_categoria\n",
      "- agregado_vendas_cliente\n",
      "\n",
      "🔍 Lendo dados da tabela: local.gold.dim_clientes\n",
      "\n",
      "📐 Schema:\n",
      "root\n",
      " |-- cliente_id: string (nullable = true)\n",
      " |-- nome_cliente: string (nullable = true)\n",
      " |-- email: string (nullable = true)\n",
      " |-- data_cadastro: string (nullable = true)\n",
      " |-- ativo: integer (nullable = true)\n",
      " |-- ano_cadastro: integer (nullable = true)\n",
      " |-- mes_cadastro: integer (nullable = true)\n",
      " |-- created_at: timestamp (nullable = true)\n",
      "\n",
      "\n",
      "📝 Amostra dos dados (10 primeiras linhas):\n"
     ]
    },
    {
     "name": "stderr",
     "output_type": "stream",
     "text": [
      "                                                                                \r"
     ]
    },
    {
     "name": "stdout",
     "output_type": "stream",
     "text": [
      "+----------+-----------------------+--------------------------------------+-------------+-----+------------+------------+--------------------------+\n",
      "|cliente_id|nome_cliente           |email                                 |data_cadastro|ativo|ano_cadastro|mes_cadastro|created_at                |\n",
      "+----------+-----------------------+--------------------------------------+-------------+-----+------------+------------+--------------------------+\n",
      "|6010021   |Letícia Nunes          |letícia.nunes.17@exemplo.com          |2025-01-15   |1    |2025        |1           |2025-09-13 19:02:41.891835|\n",
      "|6010024   |Maria Flor Brito       |maria.flor.brito.20@exemplo.com       |2025-01-21   |1    |2025        |1           |2025-09-13 19:02:41.891835|\n",
      "|6010031   |João Vitor da Cruz     |joão.vitor.da.cruz.27@exemplo.com     |2025-01-18   |1    |2025        |1           |2025-09-13 19:02:41.891835|\n",
      "|6010040   |Joana da Rosa          |joana.da.rosa.36@exemplo.com          |2025-01-14   |1    |2025        |1           |2025-09-13 19:02:41.891835|\n",
      "|6010045   |Samuel Vieira          |samuel.vieira.41@exemplo.com          |2025-01-07   |1    |2025        |1           |2025-09-13 19:02:41.891835|\n",
      "|6010058   |Luiz Felipe Albuquerque|luiz.felipe.albuquerque.54@exemplo.com|2025-01-01   |1    |2025        |1           |2025-09-13 19:02:41.891835|\n",
      "|6010099   |Nicole Mendonça        |nicole.mendonça.95@exemplo.com        |2025-01-24   |1    |2025        |1           |2025-09-13 19:02:41.891835|\n",
      "|6010114   |Eloah Sales            |eloah.sales.110@exemplo.com           |2025-01-20   |1    |2025        |1           |2025-09-13 19:02:41.891835|\n",
      "|6010145   |Maria Luiza Araújo     |maria.luiza.araújo.141@exemplo.com    |2025-01-19   |1    |2025        |1           |2025-09-13 19:02:41.891835|\n",
      "|6010155   |Srta. Cecília Moraes   |srta..cecília.moraes.151@exemplo.com  |2025-01-07   |1    |2025        |1           |2025-09-13 19:02:41.891835|\n",
      "+----------+-----------------------+--------------------------------------+-------------+-----+------------+------------+--------------------------+\n",
      "only showing top 10 rows\n",
      "\n",
      "\n",
      "🔎 Exemplo de consulta SQL (contagem de registros):\n",
      "+--------+\n",
      "|count(1)|\n",
      "+--------+\n",
      "|   29484|\n",
      "+--------+\n",
      "\n",
      "\n",
      "✅ Leitura concluída.\n"
     ]
    }
   ],
   "source": [
    "# Lista tabelas da camada silver\n",
    "gold_tables = [row.tableName for row in spark.sql(\"SHOW TABLES IN local.gold\").collect()]\n",
    "\n",
    "print(\"\\n📊 Tabelas disponíveis na camada Gold:\")\n",
    "for table in gold_tables:\n",
    "    print(f\"- {table}\")\n",
    "\n",
    "# Exemplo: Ler uma tabela específica (você pode escolher qualquer uma da lista)\n",
    "if gold_tables:\n",
    "    table_to_read = gold_tables[0]  # Lendo a primeira tabela como exemplo\n",
    "    print(f\"\\n🔍 Lendo dados da tabela: local.gold.{table_to_read}\")\n",
    "    \n",
    "    df = spark.read.format(\"iceberg\").load(f\"local.gold.{table_to_read}\")\n",
    "    \n",
    "    # Mostra o schema e algumas linhas\n",
    "    print(\"\\n📐 Schema:\")\n",
    "    df.printSchema()\n",
    "    \n",
    "    print(\"\\n📝 Amostra dos dados (10 primeiras linhas):\")\n",
    "    df.show(10, truncate=False)\n",
    "    \n",
    "    # Você também pode fazer consultas SQL diretamente\n",
    "    print(\"\\n🔎 Exemplo de consulta SQL (contagem de registros):\")\n",
    "    spark.sql(f\"SELECT COUNT(*) FROM local.gold.{table_to_read}\").show()\n",
    "else:\n",
    "    print(\"\\n⚠️ Nenhuma tabela encontrada na camada Gold.\")\n",
    "\n",
    "print(\"\\n✅ Leitura concluída.\")"
   ]
  },
  {
   "cell_type": "markdown",
   "id": "3343d3ce-b0c1-4d55-ab29-80a37745c08e",
   "metadata": {
    "jp-MarkdownHeadingCollapsed": true
   },
   "source": [
    "# <b style=\"color: white; background-color: #00bbff; padding: 5px 10px; border-radius: 5px;\">READING TABLES GOLD AGREGADOS</b>"
   ]
  },
  {
   "cell_type": "code",
   "execution_count": 8,
   "id": "e2f242bb-209a-4424-bd0e-a0a4b27fb3e3",
   "metadata": {},
   "outputs": [
    {
     "name": "stdout",
     "output_type": "stream",
     "text": [
      "\n",
      "📊 Tabelas disponíveis na camada Gold:\n",
      "- dim_clientes\n",
      "- fato_vendas\n",
      "- agregado_vendas_categoria\n",
      "- agregado_vendas_cliente\n",
      "\n",
      "🔍 Lendo dados da tabela: local.gold.agregado_vendas_categoria\n",
      "\n",
      "📐 Schema:\n",
      "root\n",
      " |-- categoria: string (nullable = true)\n",
      " |-- ano_venda: integer (nullable = true)\n",
      " |-- mes_venda: integer (nullable = true)\n",
      " |-- total_vendido: double (nullable = true)\n",
      " |-- quantidade_vendas: long (nullable = true)\n",
      " |-- valor_medio_venda: double (nullable = true)\n",
      " |-- created_at: timestamp (nullable = true)\n",
      "\n",
      "\n",
      "📝 Amostra dos dados (10 primeiras linhas):\n"
     ]
    },
    {
     "name": "stderr",
     "output_type": "stream",
     "text": [
      "                                                                                \r"
     ]
    },
    {
     "name": "stdout",
     "output_type": "stream",
     "text": [
      "+-----------+---------+---------+--------------------+-----------------+------------------+-------------------------+\n",
      "|categoria  |ano_venda|mes_venda|total_vendido       |quantidade_vendas|valor_medio_venda |created_at               |\n",
      "+-----------+---------+---------+--------------------+-----------------+------------------+-------------------------+\n",
      "|perifericos|2025     |1        |1969373.2999999968  |4590             |429.05736383442195|2025-09-13 19:36:21.76979|\n",
      "|eletronicos|2025     |1        |3.7992888979999684E7|11530            |3295.1334761491485|2025-09-13 19:36:21.76979|\n",
      "|mobilia    |2025     |1        |9307029.5           |4579             |2032.5462983184102|2025-09-13 19:36:21.76979|\n",
      "|acessorios |2025     |1        |1040192.3499999995  |2339             |444.7166951688754 |2025-09-13 19:36:21.76979|\n",
      "+-----------+---------+---------+--------------------+-----------------+------------------+-------------------------+\n",
      "\n",
      "\n",
      "🔎 Exemplo de consulta SQL (contagem de registros):\n",
      "+--------+\n",
      "|count(1)|\n",
      "+--------+\n",
      "|       4|\n",
      "+--------+\n",
      "\n",
      "\n",
      "✅ Leitura concluída.\n"
     ]
    }
   ],
   "source": [
    "# Lista tabelas da camada silver\n",
    "gold_tables = [row.tableName for row in spark.sql(\"SHOW TABLES IN local.gold\").collect()]\n",
    "\n",
    "print(\"\\n📊 Tabelas disponíveis na camada Gold:\")\n",
    "for table in gold_tables:\n",
    "    print(f\"- {table}\")\n",
    "\n",
    "# Exemplo: Ler uma tabela específica (você pode escolher qualquer uma da lista)\n",
    "if gold_tables:\n",
    "    table_to_read = gold_tables[2]  # Lendo a primeira tabela como exemplo\n",
    "    print(f\"\\n🔍 Lendo dados da tabela: local.gold.{table_to_read}\")\n",
    "    \n",
    "    df = spark.read.format(\"iceberg\").load(f\"local.gold.{table_to_read}\")\n",
    "    \n",
    "    # Mostra o schema e algumas linhas\n",
    "    print(\"\\n📐 Schema:\")\n",
    "    df.printSchema()\n",
    "    \n",
    "    print(\"\\n📝 Amostra dos dados (10 primeiras linhas):\")\n",
    "    df.show(10, truncate=False)\n",
    "    \n",
    "    # Você também pode fazer consultas SQL diretamente\n",
    "    print(\"\\n🔎 Exemplo de consulta SQL (contagem de registros):\")\n",
    "    spark.sql(f\"SELECT COUNT(*) FROM local.gold.{table_to_read}\").show()\n",
    "else:\n",
    "    print(\"\\n⚠️ Nenhuma tabela encontrada na camada Gold.\")\n",
    "\n",
    "print(\"\\n✅ Leitura concluída.\")"
   ]
  },
  {
   "cell_type": "code",
   "execution_count": null,
   "id": "38d8c748-27f7-4294-9e4a-cf98fb286e11",
   "metadata": {},
   "outputs": [],
   "source": []
  }
 ],
 "metadata": {
  "kernelspec": {
   "display_name": "Python 3 (ipykernel)",
   "language": "python",
   "name": "python3"
  },
  "language_info": {
   "codemirror_mode": {
    "name": "ipython",
    "version": 3
   },
   "file_extension": ".py",
   "mimetype": "text/x-python",
   "name": "python",
   "nbconvert_exporter": "python",
   "pygments_lexer": "ipython3",
   "version": "3.8.10"
  }
 },
 "nbformat": 4,
 "nbformat_minor": 5
}
