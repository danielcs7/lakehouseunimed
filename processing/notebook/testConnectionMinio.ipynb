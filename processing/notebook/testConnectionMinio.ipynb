{
 "cells": [
  {
   "cell_type": "code",
   "execution_count": 1,
   "id": "5e124344-14db-41d3-9343-a1f996941eaa",
   "metadata": {},
   "outputs": [],
   "source": [
    "import re\n",
    "import boto3\n",
    "from botocore.client import Config\n",
    "import os\n",
    "import logging\n",
    "import json\n",
    "from dotenv import load_dotenv"
   ]
  },
  {
   "cell_type": "code",
   "execution_count": 2,
   "id": "2cf61e6d-ef0b-4517-8eac-0e3234ceb4eb",
   "metadata": {},
   "outputs": [
    {
     "name": "stdout",
     "output_type": "stream",
     "text": [
      "http://minio:9000\n",
      "minioadmin\n"
     ]
    }
   ],
   "source": [
    "# -------------------------\n",
    "# Configurações\n",
    "# -------------------------\n",
    "MINIO_BUCKET = \"ingestion\"\n",
    "DATA_FOLDER = \"/opt/notebook/data\"\n",
    "\n",
    "# Carregar variáveis do arquivo .env\n",
    "load_dotenv()\n",
    "\n",
    "s3_endpoint = os.getenv(\"S3_ENDPOINT\")\n",
    "s3_access_key = os.getenv(\"S3_ACCESS_KEY\")\n",
    "s3_secret_key = os.getenv(\"S3_SECRET_KEY\")\n",
    "print(s3_endpoint)\n",
    "print(s3_access_key)\n",
    "\n",
    "# Cria cliente do MinIO com boto3\n",
    "s3 = boto3.client(\n",
    "    \"s3\",\n",
    "    endpoint_url=s3_endpoint,\n",
    "    aws_access_key_id=s3_access_key,\n",
    "    aws_secret_access_key=s3_secret_key,\n",
    "    config=Config(signature_version=\"s3v4\"),\n",
    "    region_name=\"us-east-1\"\n",
    ")"
   ]
  },
  {
   "cell_type": "code",
   "execution_count": 4,
   "id": "0fa5b37a-bac8-4d1a-9105-ccad98533f7f",
   "metadata": {},
   "outputs": [
    {
     "name": "stdout",
     "output_type": "stream",
     "text": [
      "Bucket 'ingestion' já existe.\n"
     ]
    }
   ],
   "source": [
    "# Verifica se o bucket existe\n",
    "buckets = [bucket['Name'] for bucket in s3.list_buckets()['Buckets']]\n",
    "if MINIO_BUCKET not in buckets:\n",
    "    s3.create_bucket(Bucket=MINIO_BUCKET)\n",
    "    print(f\"Bucket '{MINIO_BUCKET}' criado.\")\n",
    "else:\n",
    "    print(f\"Bucket '{MINIO_BUCKET}' já existe.\")"
   ]
  },
  {
   "cell_type": "code",
   "execution_count": null,
   "id": "fda23c53-f64f-47cf-8aee-d2fb1939b748",
   "metadata": {},
   "outputs": [],
   "source": []
  },
  {
   "cell_type": "code",
   "execution_count": null,
   "id": "5d0af8d0-f317-4e45-843e-6e0e8d86c3c7",
   "metadata": {},
   "outputs": [],
   "source": []
  }
 ],
 "metadata": {
  "kernelspec": {
   "display_name": "Python 3 (ipykernel)",
   "language": "python",
   "name": "python3"
  },
  "language_info": {
   "codemirror_mode": {
    "name": "ipython",
    "version": 3
   },
   "file_extension": ".py",
   "mimetype": "text/x-python",
   "name": "python",
   "nbconvert_exporter": "python",
   "pygments_lexer": "ipython3",
   "version": "3.8.10"
  }
 },
 "nbformat": 4,
 "nbformat_minor": 5
}
